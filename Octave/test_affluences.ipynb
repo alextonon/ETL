{
 "cells": [
  {
   "cell_type": "code",
   "execution_count": 1,
   "id": "6c40e3b4",
   "metadata": {},
   "outputs": [],
   "source": [
    "import pandas as pd\n",
    "import sys\n",
    "import os\n",
    "\n",
    "root_dir = os.path.abspath(os.path.join(os.getcwd(), \"..\"))\n",
    "\n",
    "if root_dir not in sys.path:\n",
    "    sys.path.append(root_dir)\n",
    "\n",
    "import extract.extract_affluences as extract_affluences\n",
    "import transform.transform_affluences as transform_affluences"
   ]
  },
  {
   "cell_type": "code",
   "execution_count": 2,
   "id": "c550ed6e",
   "metadata": {},
   "outputs": [
    {
     "name": "stdout",
     "output_type": "stream",
     "text": [
      "Making API request... (this may take a few seconds)\n"
     ]
    },
    {
     "name": "stderr",
     "output_type": "stream",
     "text": [
      "/home/oclaich/anaconda3/envs/myenv/lib/python3.12/site-packages/urllib3/connectionpool.py:1097: InsecureRequestWarning: Unverified HTTPS request is being made to host 'api.insee.fr'. Adding certificate verification is strongly advised. See: https://urllib3.readthedocs.io/en/latest/advanced-usage.html#tls-warnings\n",
      "  warnings.warn(\n"
     ]
    },
    {
     "name": "stdout",
     "output_type": "stream",
     "text": [
      "Jeu de données : DS_TOUR_CAP \n",
      "Titre : Capacités d'hébergements touristiques \n",
      "Département 01 ajouté\n",
      "Making API request... (this may take a few seconds)\n"
     ]
    },
    {
     "name": "stderr",
     "output_type": "stream",
     "text": [
      "/home/oclaich/anaconda3/envs/myenv/lib/python3.12/site-packages/urllib3/connectionpool.py:1097: InsecureRequestWarning: Unverified HTTPS request is being made to host 'api.insee.fr'. Adding certificate verification is strongly advised. See: https://urllib3.readthedocs.io/en/latest/advanced-usage.html#tls-warnings\n",
      "  warnings.warn(\n"
     ]
    },
    {
     "name": "stdout",
     "output_type": "stream",
     "text": [
      "Jeu de données : DS_TOUR_CAP \n",
      "Titre : Capacités d'hébergements touristiques \n",
      "Département 02 ajouté\n",
      "Making API request... (this may take a few seconds)\n"
     ]
    },
    {
     "name": "stderr",
     "output_type": "stream",
     "text": [
      "/home/oclaich/anaconda3/envs/myenv/lib/python3.12/site-packages/urllib3/connectionpool.py:1097: InsecureRequestWarning: Unverified HTTPS request is being made to host 'api.insee.fr'. Adding certificate verification is strongly advised. See: https://urllib3.readthedocs.io/en/latest/advanced-usage.html#tls-warnings\n",
      "  warnings.warn(\n"
     ]
    },
    {
     "name": "stdout",
     "output_type": "stream",
     "text": [
      "Jeu de données : DS_TOUR_CAP \n",
      "Titre : Capacités d'hébergements touristiques \n",
      "Département 03 ajouté\n",
      "Making API request... (this may take a few seconds)\n"
     ]
    },
    {
     "name": "stderr",
     "output_type": "stream",
     "text": [
      "/home/oclaich/anaconda3/envs/myenv/lib/python3.12/site-packages/urllib3/connectionpool.py:1097: InsecureRequestWarning: Unverified HTTPS request is being made to host 'api.insee.fr'. Adding certificate verification is strongly advised. See: https://urllib3.readthedocs.io/en/latest/advanced-usage.html#tls-warnings\n",
      "  warnings.warn(\n"
     ]
    },
    {
     "name": "stdout",
     "output_type": "stream",
     "text": [
      "Jeu de données : DS_TOUR_CAP \n",
      "Titre : Capacités d'hébergements touristiques \n",
      "Département 04 ajouté\n",
      "Making API request... (this may take a few seconds)\n"
     ]
    },
    {
     "name": "stderr",
     "output_type": "stream",
     "text": [
      "/home/oclaich/anaconda3/envs/myenv/lib/python3.12/site-packages/urllib3/connectionpool.py:1097: InsecureRequestWarning: Unverified HTTPS request is being made to host 'api.insee.fr'. Adding certificate verification is strongly advised. See: https://urllib3.readthedocs.io/en/latest/advanced-usage.html#tls-warnings\n",
      "  warnings.warn(\n"
     ]
    },
    {
     "name": "stdout",
     "output_type": "stream",
     "text": [
      "Jeu de données : DS_TOUR_CAP \n",
      "Titre : Capacités d'hébergements touristiques \n",
      "Département 05 ajouté\n",
      "Making API request... (this may take a few seconds)\n"
     ]
    },
    {
     "name": "stderr",
     "output_type": "stream",
     "text": [
      "/home/oclaich/anaconda3/envs/myenv/lib/python3.12/site-packages/urllib3/connectionpool.py:1097: InsecureRequestWarning: Unverified HTTPS request is being made to host 'api.insee.fr'. Adding certificate verification is strongly advised. See: https://urllib3.readthedocs.io/en/latest/advanced-usage.html#tls-warnings\n",
      "  warnings.warn(\n"
     ]
    },
    {
     "name": "stdout",
     "output_type": "stream",
     "text": [
      "Jeu de données : DS_TOUR_CAP \n",
      "Titre : Capacités d'hébergements touristiques \n",
      "Département 06 ajouté\n",
      "Making API request... (this may take a few seconds)\n"
     ]
    },
    {
     "name": "stderr",
     "output_type": "stream",
     "text": [
      "/home/oclaich/anaconda3/envs/myenv/lib/python3.12/site-packages/urllib3/connectionpool.py:1097: InsecureRequestWarning: Unverified HTTPS request is being made to host 'api.insee.fr'. Adding certificate verification is strongly advised. See: https://urllib3.readthedocs.io/en/latest/advanced-usage.html#tls-warnings\n",
      "  warnings.warn(\n"
     ]
    },
    {
     "name": "stdout",
     "output_type": "stream",
     "text": [
      "Jeu de données : DS_TOUR_CAP \n",
      "Titre : Capacités d'hébergements touristiques \n",
      "Département 07 ajouté\n",
      "Making API request... (this may take a few seconds)\n"
     ]
    },
    {
     "name": "stderr",
     "output_type": "stream",
     "text": [
      "/home/oclaich/anaconda3/envs/myenv/lib/python3.12/site-packages/urllib3/connectionpool.py:1097: InsecureRequestWarning: Unverified HTTPS request is being made to host 'api.insee.fr'. Adding certificate verification is strongly advised. See: https://urllib3.readthedocs.io/en/latest/advanced-usage.html#tls-warnings\n",
      "  warnings.warn(\n"
     ]
    },
    {
     "name": "stdout",
     "output_type": "stream",
     "text": [
      "Jeu de données : DS_TOUR_CAP \n",
      "Titre : Capacités d'hébergements touristiques \n",
      "Département 08 ajouté\n",
      "Making API request... (this may take a few seconds)\n"
     ]
    },
    {
     "name": "stderr",
     "output_type": "stream",
     "text": [
      "/home/oclaich/anaconda3/envs/myenv/lib/python3.12/site-packages/urllib3/connectionpool.py:1097: InsecureRequestWarning: Unverified HTTPS request is being made to host 'api.insee.fr'. Adding certificate verification is strongly advised. See: https://urllib3.readthedocs.io/en/latest/advanced-usage.html#tls-warnings\n",
      "  warnings.warn(\n"
     ]
    },
    {
     "name": "stdout",
     "output_type": "stream",
     "text": [
      "Jeu de données : DS_TOUR_CAP \n",
      "Titre : Capacités d'hébergements touristiques \n",
      "Département 09 ajouté\n",
      "Making API request... (this may take a few seconds)\n"
     ]
    },
    {
     "name": "stderr",
     "output_type": "stream",
     "text": [
      "/home/oclaich/anaconda3/envs/myenv/lib/python3.12/site-packages/urllib3/connectionpool.py:1097: InsecureRequestWarning: Unverified HTTPS request is being made to host 'api.insee.fr'. Adding certificate verification is strongly advised. See: https://urllib3.readthedocs.io/en/latest/advanced-usage.html#tls-warnings\n",
      "  warnings.warn(\n"
     ]
    },
    {
     "name": "stdout",
     "output_type": "stream",
     "text": [
      "Jeu de données : DS_TOUR_CAP \n",
      "Titre : Capacités d'hébergements touristiques \n",
      "Département 10 ajouté\n",
      "Making API request... (this may take a few seconds)\n"
     ]
    },
    {
     "name": "stderr",
     "output_type": "stream",
     "text": [
      "/home/oclaich/anaconda3/envs/myenv/lib/python3.12/site-packages/urllib3/connectionpool.py:1097: InsecureRequestWarning: Unverified HTTPS request is being made to host 'api.insee.fr'. Adding certificate verification is strongly advised. See: https://urllib3.readthedocs.io/en/latest/advanced-usage.html#tls-warnings\n",
      "  warnings.warn(\n"
     ]
    },
    {
     "name": "stdout",
     "output_type": "stream",
     "text": [
      "Jeu de données : DS_TOUR_CAP \n",
      "Titre : Capacités d'hébergements touristiques \n",
      "Département 11 ajouté\n",
      "Making API request... (this may take a few seconds)\n"
     ]
    },
    {
     "name": "stderr",
     "output_type": "stream",
     "text": [
      "/home/oclaich/anaconda3/envs/myenv/lib/python3.12/site-packages/urllib3/connectionpool.py:1097: InsecureRequestWarning: Unverified HTTPS request is being made to host 'api.insee.fr'. Adding certificate verification is strongly advised. See: https://urllib3.readthedocs.io/en/latest/advanced-usage.html#tls-warnings\n",
      "  warnings.warn(\n"
     ]
    },
    {
     "name": "stdout",
     "output_type": "stream",
     "text": [
      "Jeu de données : DS_TOUR_CAP \n",
      "Titre : Capacités d'hébergements touristiques \n",
      "Département 12 ajouté\n",
      "Making API request... (this may take a few seconds)\n"
     ]
    },
    {
     "name": "stderr",
     "output_type": "stream",
     "text": [
      "/home/oclaich/anaconda3/envs/myenv/lib/python3.12/site-packages/urllib3/connectionpool.py:1097: InsecureRequestWarning: Unverified HTTPS request is being made to host 'api.insee.fr'. Adding certificate verification is strongly advised. See: https://urllib3.readthedocs.io/en/latest/advanced-usage.html#tls-warnings\n",
      "  warnings.warn(\n"
     ]
    },
    {
     "name": "stdout",
     "output_type": "stream",
     "text": [
      "Jeu de données : DS_TOUR_CAP \n",
      "Titre : Capacités d'hébergements touristiques \n",
      "Département 13 ajouté\n",
      "Making API request... (this may take a few seconds)\n"
     ]
    },
    {
     "name": "stderr",
     "output_type": "stream",
     "text": [
      "/home/oclaich/anaconda3/envs/myenv/lib/python3.12/site-packages/urllib3/connectionpool.py:1097: InsecureRequestWarning: Unverified HTTPS request is being made to host 'api.insee.fr'. Adding certificate verification is strongly advised. See: https://urllib3.readthedocs.io/en/latest/advanced-usage.html#tls-warnings\n",
      "  warnings.warn(\n"
     ]
    },
    {
     "name": "stdout",
     "output_type": "stream",
     "text": [
      "Jeu de données : DS_TOUR_CAP \n",
      "Titre : Capacités d'hébergements touristiques \n",
      "Département 14 ajouté\n",
      "Making API request... (this may take a few seconds)\n"
     ]
    },
    {
     "name": "stderr",
     "output_type": "stream",
     "text": [
      "/home/oclaich/anaconda3/envs/myenv/lib/python3.12/site-packages/urllib3/connectionpool.py:1097: InsecureRequestWarning: Unverified HTTPS request is being made to host 'api.insee.fr'. Adding certificate verification is strongly advised. See: https://urllib3.readthedocs.io/en/latest/advanced-usage.html#tls-warnings\n",
      "  warnings.warn(\n"
     ]
    },
    {
     "name": "stdout",
     "output_type": "stream",
     "text": [
      "Jeu de données : DS_TOUR_CAP \n",
      "Titre : Capacités d'hébergements touristiques \n",
      "Département 15 ajouté\n",
      "Making API request... (this may take a few seconds)\n"
     ]
    },
    {
     "name": "stderr",
     "output_type": "stream",
     "text": [
      "/home/oclaich/anaconda3/envs/myenv/lib/python3.12/site-packages/urllib3/connectionpool.py:1097: InsecureRequestWarning: Unverified HTTPS request is being made to host 'api.insee.fr'. Adding certificate verification is strongly advised. See: https://urllib3.readthedocs.io/en/latest/advanced-usage.html#tls-warnings\n",
      "  warnings.warn(\n"
     ]
    },
    {
     "name": "stdout",
     "output_type": "stream",
     "text": [
      "Jeu de données : DS_TOUR_CAP \n",
      "Titre : Capacités d'hébergements touristiques \n",
      "Département 16 ajouté\n",
      "Making API request... (this may take a few seconds)\n"
     ]
    },
    {
     "name": "stderr",
     "output_type": "stream",
     "text": [
      "/home/oclaich/anaconda3/envs/myenv/lib/python3.12/site-packages/urllib3/connectionpool.py:1097: InsecureRequestWarning: Unverified HTTPS request is being made to host 'api.insee.fr'. Adding certificate verification is strongly advised. See: https://urllib3.readthedocs.io/en/latest/advanced-usage.html#tls-warnings\n",
      "  warnings.warn(\n"
     ]
    },
    {
     "name": "stdout",
     "output_type": "stream",
     "text": [
      "Jeu de données : DS_TOUR_CAP \n",
      "Titre : Capacités d'hébergements touristiques \n",
      "Département 17 ajouté\n",
      "Making API request... (this may take a few seconds)\n"
     ]
    },
    {
     "name": "stderr",
     "output_type": "stream",
     "text": [
      "/home/oclaich/anaconda3/envs/myenv/lib/python3.12/site-packages/urllib3/connectionpool.py:1097: InsecureRequestWarning: Unverified HTTPS request is being made to host 'api.insee.fr'. Adding certificate verification is strongly advised. See: https://urllib3.readthedocs.io/en/latest/advanced-usage.html#tls-warnings\n",
      "  warnings.warn(\n"
     ]
    },
    {
     "name": "stdout",
     "output_type": "stream",
     "text": [
      "Jeu de données : DS_TOUR_CAP \n",
      "Titre : Capacités d'hébergements touristiques \n",
      "Département 18 ajouté\n",
      "Making API request... (this may take a few seconds)\n"
     ]
    },
    {
     "name": "stderr",
     "output_type": "stream",
     "text": [
      "/home/oclaich/anaconda3/envs/myenv/lib/python3.12/site-packages/urllib3/connectionpool.py:1097: InsecureRequestWarning: Unverified HTTPS request is being made to host 'api.insee.fr'. Adding certificate verification is strongly advised. See: https://urllib3.readthedocs.io/en/latest/advanced-usage.html#tls-warnings\n",
      "  warnings.warn(\n"
     ]
    },
    {
     "name": "stdout",
     "output_type": "stream",
     "text": [
      "Jeu de données : DS_TOUR_CAP \n",
      "Titre : Capacités d'hébergements touristiques \n",
      "Département 19 ajouté\n",
      "Making API request... (this may take a few seconds)\n"
     ]
    },
    {
     "name": "stderr",
     "output_type": "stream",
     "text": [
      "/home/oclaich/anaconda3/envs/myenv/lib/python3.12/site-packages/urllib3/connectionpool.py:1097: InsecureRequestWarning: Unverified HTTPS request is being made to host 'api.insee.fr'. Adding certificate verification is strongly advised. See: https://urllib3.readthedocs.io/en/latest/advanced-usage.html#tls-warnings\n",
      "  warnings.warn(\n"
     ]
    },
    {
     "name": "stdout",
     "output_type": "stream",
     "text": [
      "Jeu de données : DS_TOUR_CAP \n",
      "Titre : Capacités d'hébergements touristiques \n",
      "Département 21 ajouté\n",
      "Making API request... (this may take a few seconds)\n"
     ]
    },
    {
     "name": "stderr",
     "output_type": "stream",
     "text": [
      "/home/oclaich/anaconda3/envs/myenv/lib/python3.12/site-packages/urllib3/connectionpool.py:1097: InsecureRequestWarning: Unverified HTTPS request is being made to host 'api.insee.fr'. Adding certificate verification is strongly advised. See: https://urllib3.readthedocs.io/en/latest/advanced-usage.html#tls-warnings\n",
      "  warnings.warn(\n"
     ]
    },
    {
     "name": "stdout",
     "output_type": "stream",
     "text": [
      "Jeu de données : DS_TOUR_CAP \n",
      "Titre : Capacités d'hébergements touristiques \n",
      "Département 22 ajouté\n",
      "Making API request... (this may take a few seconds)\n"
     ]
    },
    {
     "name": "stderr",
     "output_type": "stream",
     "text": [
      "/home/oclaich/anaconda3/envs/myenv/lib/python3.12/site-packages/urllib3/connectionpool.py:1097: InsecureRequestWarning: Unverified HTTPS request is being made to host 'api.insee.fr'. Adding certificate verification is strongly advised. See: https://urllib3.readthedocs.io/en/latest/advanced-usage.html#tls-warnings\n",
      "  warnings.warn(\n"
     ]
    },
    {
     "name": "stdout",
     "output_type": "stream",
     "text": [
      "Jeu de données : DS_TOUR_CAP \n",
      "Titre : Capacités d'hébergements touristiques \n",
      "Département 23 ajouté\n",
      "Making API request... (this may take a few seconds)\n"
     ]
    },
    {
     "name": "stderr",
     "output_type": "stream",
     "text": [
      "/home/oclaich/anaconda3/envs/myenv/lib/python3.12/site-packages/urllib3/connectionpool.py:1097: InsecureRequestWarning: Unverified HTTPS request is being made to host 'api.insee.fr'. Adding certificate verification is strongly advised. See: https://urllib3.readthedocs.io/en/latest/advanced-usage.html#tls-warnings\n",
      "  warnings.warn(\n"
     ]
    },
    {
     "name": "stdout",
     "output_type": "stream",
     "text": [
      "Jeu de données : DS_TOUR_CAP \n",
      "Titre : Capacités d'hébergements touristiques \n",
      "Département 24 ajouté\n",
      "Making API request... (this may take a few seconds)\n"
     ]
    },
    {
     "name": "stderr",
     "output_type": "stream",
     "text": [
      "/home/oclaich/anaconda3/envs/myenv/lib/python3.12/site-packages/urllib3/connectionpool.py:1097: InsecureRequestWarning: Unverified HTTPS request is being made to host 'api.insee.fr'. Adding certificate verification is strongly advised. See: https://urllib3.readthedocs.io/en/latest/advanced-usage.html#tls-warnings\n",
      "  warnings.warn(\n"
     ]
    },
    {
     "name": "stdout",
     "output_type": "stream",
     "text": [
      "Jeu de données : DS_TOUR_CAP \n",
      "Titre : Capacités d'hébergements touristiques \n",
      "Département 25 ajouté\n",
      "Making API request... (this may take a few seconds)\n"
     ]
    },
    {
     "name": "stderr",
     "output_type": "stream",
     "text": [
      "/home/oclaich/anaconda3/envs/myenv/lib/python3.12/site-packages/urllib3/connectionpool.py:1097: InsecureRequestWarning: Unverified HTTPS request is being made to host 'api.insee.fr'. Adding certificate verification is strongly advised. See: https://urllib3.readthedocs.io/en/latest/advanced-usage.html#tls-warnings\n",
      "  warnings.warn(\n"
     ]
    },
    {
     "name": "stdout",
     "output_type": "stream",
     "text": [
      "Jeu de données : DS_TOUR_CAP \n",
      "Titre : Capacités d'hébergements touristiques \n",
      "Département 26 ajouté\n",
      "Making API request... (this may take a few seconds)\n"
     ]
    },
    {
     "name": "stderr",
     "output_type": "stream",
     "text": [
      "/home/oclaich/anaconda3/envs/myenv/lib/python3.12/site-packages/urllib3/connectionpool.py:1097: InsecureRequestWarning: Unverified HTTPS request is being made to host 'api.insee.fr'. Adding certificate verification is strongly advised. See: https://urllib3.readthedocs.io/en/latest/advanced-usage.html#tls-warnings\n",
      "  warnings.warn(\n"
     ]
    },
    {
     "name": "stdout",
     "output_type": "stream",
     "text": [
      "Jeu de données : DS_TOUR_CAP \n",
      "Titre : Capacités d'hébergements touristiques \n",
      "Département 27 ajouté\n",
      "Making API request... (this may take a few seconds)\n"
     ]
    },
    {
     "name": "stderr",
     "output_type": "stream",
     "text": [
      "/home/oclaich/anaconda3/envs/myenv/lib/python3.12/site-packages/urllib3/connectionpool.py:1097: InsecureRequestWarning: Unverified HTTPS request is being made to host 'api.insee.fr'. Adding certificate verification is strongly advised. See: https://urllib3.readthedocs.io/en/latest/advanced-usage.html#tls-warnings\n",
      "  warnings.warn(\n"
     ]
    },
    {
     "name": "stdout",
     "output_type": "stream",
     "text": [
      "Jeu de données : DS_TOUR_CAP \n",
      "Titre : Capacités d'hébergements touristiques \n",
      "Département 28 ajouté\n",
      "Making API request... (this may take a few seconds)\n"
     ]
    },
    {
     "name": "stderr",
     "output_type": "stream",
     "text": [
      "/home/oclaich/anaconda3/envs/myenv/lib/python3.12/site-packages/urllib3/connectionpool.py:1097: InsecureRequestWarning: Unverified HTTPS request is being made to host 'api.insee.fr'. Adding certificate verification is strongly advised. See: https://urllib3.readthedocs.io/en/latest/advanced-usage.html#tls-warnings\n",
      "  warnings.warn(\n"
     ]
    },
    {
     "name": "stdout",
     "output_type": "stream",
     "text": [
      "Jeu de données : DS_TOUR_CAP \n",
      "Titre : Capacités d'hébergements touristiques \n",
      "Département 29 ajouté\n",
      "Making API request... (this may take a few seconds)\n"
     ]
    },
    {
     "name": "stderr",
     "output_type": "stream",
     "text": [
      "/home/oclaich/anaconda3/envs/myenv/lib/python3.12/site-packages/urllib3/connectionpool.py:1097: InsecureRequestWarning: Unverified HTTPS request is being made to host 'api.insee.fr'. Adding certificate verification is strongly advised. See: https://urllib3.readthedocs.io/en/latest/advanced-usage.html#tls-warnings\n",
      "  warnings.warn(\n"
     ]
    },
    {
     "name": "stdout",
     "output_type": "stream",
     "text": [
      "Jeu de données : DS_TOUR_CAP \n",
      "Titre : Capacités d'hébergements touristiques \n",
      "Département 2A ajouté\n",
      "Making API request... (this may take a few seconds)\n"
     ]
    },
    {
     "name": "stderr",
     "output_type": "stream",
     "text": [
      "/home/oclaich/anaconda3/envs/myenv/lib/python3.12/site-packages/urllib3/connectionpool.py:1097: InsecureRequestWarning: Unverified HTTPS request is being made to host 'api.insee.fr'. Adding certificate verification is strongly advised. See: https://urllib3.readthedocs.io/en/latest/advanced-usage.html#tls-warnings\n",
      "  warnings.warn(\n"
     ]
    },
    {
     "name": "stdout",
     "output_type": "stream",
     "text": [
      "Jeu de données : DS_TOUR_CAP \n",
      "Titre : Capacités d'hébergements touristiques \n",
      "Département 2B ajouté\n",
      "Making API request... (this may take a few seconds)\n"
     ]
    },
    {
     "name": "stderr",
     "output_type": "stream",
     "text": [
      "/home/oclaich/anaconda3/envs/myenv/lib/python3.12/site-packages/urllib3/connectionpool.py:1097: InsecureRequestWarning: Unverified HTTPS request is being made to host 'api.insee.fr'. Adding certificate verification is strongly advised. See: https://urllib3.readthedocs.io/en/latest/advanced-usage.html#tls-warnings\n",
      "  warnings.warn(\n"
     ]
    },
    {
     "name": "stdout",
     "output_type": "stream",
     "text": [
      "Jeu de données : DS_TOUR_CAP \n",
      "Titre : Capacités d'hébergements touristiques \n",
      "Département 30 ajouté\n",
      "Making API request... (this may take a few seconds)\n"
     ]
    },
    {
     "name": "stderr",
     "output_type": "stream",
     "text": [
      "/home/oclaich/anaconda3/envs/myenv/lib/python3.12/site-packages/urllib3/connectionpool.py:1097: InsecureRequestWarning: Unverified HTTPS request is being made to host 'api.insee.fr'. Adding certificate verification is strongly advised. See: https://urllib3.readthedocs.io/en/latest/advanced-usage.html#tls-warnings\n",
      "  warnings.warn(\n"
     ]
    },
    {
     "name": "stdout",
     "output_type": "stream",
     "text": [
      "Jeu de données : DS_TOUR_CAP \n",
      "Titre : Capacités d'hébergements touristiques \n",
      "Département 31 ajouté\n",
      "Making API request... (this may take a few seconds)\n"
     ]
    },
    {
     "name": "stderr",
     "output_type": "stream",
     "text": [
      "/home/oclaich/anaconda3/envs/myenv/lib/python3.12/site-packages/urllib3/connectionpool.py:1097: InsecureRequestWarning: Unverified HTTPS request is being made to host 'api.insee.fr'. Adding certificate verification is strongly advised. See: https://urllib3.readthedocs.io/en/latest/advanced-usage.html#tls-warnings\n",
      "  warnings.warn(\n"
     ]
    },
    {
     "name": "stdout",
     "output_type": "stream",
     "text": [
      "Jeu de données : DS_TOUR_CAP \n",
      "Titre : Capacités d'hébergements touristiques \n",
      "Département 32 ajouté\n",
      "Making API request... (this may take a few seconds)\n"
     ]
    },
    {
     "name": "stderr",
     "output_type": "stream",
     "text": [
      "/home/oclaich/anaconda3/envs/myenv/lib/python3.12/site-packages/urllib3/connectionpool.py:1097: InsecureRequestWarning: Unverified HTTPS request is being made to host 'api.insee.fr'. Adding certificate verification is strongly advised. See: https://urllib3.readthedocs.io/en/latest/advanced-usage.html#tls-warnings\n",
      "  warnings.warn(\n"
     ]
    },
    {
     "name": "stdout",
     "output_type": "stream",
     "text": [
      "Jeu de données : DS_TOUR_CAP \n",
      "Titre : Capacités d'hébergements touristiques \n",
      "Département 33 ajouté\n",
      "Making API request... (this may take a few seconds)\n"
     ]
    },
    {
     "name": "stderr",
     "output_type": "stream",
     "text": [
      "/home/oclaich/anaconda3/envs/myenv/lib/python3.12/site-packages/urllib3/connectionpool.py:1097: InsecureRequestWarning: Unverified HTTPS request is being made to host 'api.insee.fr'. Adding certificate verification is strongly advised. See: https://urllib3.readthedocs.io/en/latest/advanced-usage.html#tls-warnings\n",
      "  warnings.warn(\n"
     ]
    },
    {
     "name": "stdout",
     "output_type": "stream",
     "text": [
      "Jeu de données : DS_TOUR_CAP \n",
      "Titre : Capacités d'hébergements touristiques \n",
      "Département 34 ajouté\n",
      "Making API request... (this may take a few seconds)\n"
     ]
    },
    {
     "name": "stderr",
     "output_type": "stream",
     "text": [
      "/home/oclaich/anaconda3/envs/myenv/lib/python3.12/site-packages/urllib3/connectionpool.py:1097: InsecureRequestWarning: Unverified HTTPS request is being made to host 'api.insee.fr'. Adding certificate verification is strongly advised. See: https://urllib3.readthedocs.io/en/latest/advanced-usage.html#tls-warnings\n",
      "  warnings.warn(\n"
     ]
    },
    {
     "name": "stdout",
     "output_type": "stream",
     "text": [
      "Jeu de données : DS_TOUR_CAP \n",
      "Titre : Capacités d'hébergements touristiques \n",
      "Département 35 ajouté\n",
      "Making API request... (this may take a few seconds)\n"
     ]
    },
    {
     "name": "stderr",
     "output_type": "stream",
     "text": [
      "/home/oclaich/anaconda3/envs/myenv/lib/python3.12/site-packages/urllib3/connectionpool.py:1097: InsecureRequestWarning: Unverified HTTPS request is being made to host 'api.insee.fr'. Adding certificate verification is strongly advised. See: https://urllib3.readthedocs.io/en/latest/advanced-usage.html#tls-warnings\n",
      "  warnings.warn(\n"
     ]
    },
    {
     "name": "stdout",
     "output_type": "stream",
     "text": [
      "Jeu de données : DS_TOUR_CAP \n",
      "Titre : Capacités d'hébergements touristiques \n",
      "Département 36 ajouté\n",
      "Making API request... (this may take a few seconds)\n"
     ]
    },
    {
     "name": "stderr",
     "output_type": "stream",
     "text": [
      "/home/oclaich/anaconda3/envs/myenv/lib/python3.12/site-packages/urllib3/connectionpool.py:1097: InsecureRequestWarning: Unverified HTTPS request is being made to host 'api.insee.fr'. Adding certificate verification is strongly advised. See: https://urllib3.readthedocs.io/en/latest/advanced-usage.html#tls-warnings\n",
      "  warnings.warn(\n"
     ]
    },
    {
     "name": "stdout",
     "output_type": "stream",
     "text": [
      "Jeu de données : DS_TOUR_CAP \n",
      "Titre : Capacités d'hébergements touristiques \n",
      "Département 37 ajouté\n",
      "Making API request... (this may take a few seconds)\n"
     ]
    },
    {
     "name": "stderr",
     "output_type": "stream",
     "text": [
      "/home/oclaich/anaconda3/envs/myenv/lib/python3.12/site-packages/urllib3/connectionpool.py:1097: InsecureRequestWarning: Unverified HTTPS request is being made to host 'api.insee.fr'. Adding certificate verification is strongly advised. See: https://urllib3.readthedocs.io/en/latest/advanced-usage.html#tls-warnings\n",
      "  warnings.warn(\n"
     ]
    },
    {
     "name": "stdout",
     "output_type": "stream",
     "text": [
      "Jeu de données : DS_TOUR_CAP \n",
      "Titre : Capacités d'hébergements touristiques \n",
      "Département 38 ajouté\n",
      "Making API request... (this may take a few seconds)\n"
     ]
    },
    {
     "name": "stderr",
     "output_type": "stream",
     "text": [
      "/home/oclaich/anaconda3/envs/myenv/lib/python3.12/site-packages/urllib3/connectionpool.py:1097: InsecureRequestWarning: Unverified HTTPS request is being made to host 'api.insee.fr'. Adding certificate verification is strongly advised. See: https://urllib3.readthedocs.io/en/latest/advanced-usage.html#tls-warnings\n",
      "  warnings.warn(\n"
     ]
    },
    {
     "name": "stdout",
     "output_type": "stream",
     "text": [
      "Jeu de données : DS_TOUR_CAP \n",
      "Titre : Capacités d'hébergements touristiques \n",
      "Département 39 ajouté\n",
      "Making API request... (this may take a few seconds)\n"
     ]
    },
    {
     "name": "stderr",
     "output_type": "stream",
     "text": [
      "/home/oclaich/anaconda3/envs/myenv/lib/python3.12/site-packages/urllib3/connectionpool.py:1097: InsecureRequestWarning: Unverified HTTPS request is being made to host 'api.insee.fr'. Adding certificate verification is strongly advised. See: https://urllib3.readthedocs.io/en/latest/advanced-usage.html#tls-warnings\n",
      "  warnings.warn(\n"
     ]
    },
    {
     "name": "stdout",
     "output_type": "stream",
     "text": [
      "Jeu de données : DS_TOUR_CAP \n",
      "Titre : Capacités d'hébergements touristiques \n",
      "Département 40 ajouté\n",
      "Making API request... (this may take a few seconds)\n"
     ]
    },
    {
     "name": "stderr",
     "output_type": "stream",
     "text": [
      "/home/oclaich/anaconda3/envs/myenv/lib/python3.12/site-packages/urllib3/connectionpool.py:1097: InsecureRequestWarning: Unverified HTTPS request is being made to host 'api.insee.fr'. Adding certificate verification is strongly advised. See: https://urllib3.readthedocs.io/en/latest/advanced-usage.html#tls-warnings\n",
      "  warnings.warn(\n"
     ]
    },
    {
     "name": "stdout",
     "output_type": "stream",
     "text": [
      "Jeu de données : DS_TOUR_CAP \n",
      "Titre : Capacités d'hébergements touristiques \n",
      "Département 41 ajouté\n",
      "Making API request... (this may take a few seconds)\n"
     ]
    },
    {
     "name": "stderr",
     "output_type": "stream",
     "text": [
      "/home/oclaich/anaconda3/envs/myenv/lib/python3.12/site-packages/urllib3/connectionpool.py:1097: InsecureRequestWarning: Unverified HTTPS request is being made to host 'api.insee.fr'. Adding certificate verification is strongly advised. See: https://urllib3.readthedocs.io/en/latest/advanced-usage.html#tls-warnings\n",
      "  warnings.warn(\n"
     ]
    },
    {
     "name": "stdout",
     "output_type": "stream",
     "text": [
      "Jeu de données : DS_TOUR_CAP \n",
      "Titre : Capacités d'hébergements touristiques \n",
      "Département 42 ajouté\n",
      "Making API request... (this may take a few seconds)\n"
     ]
    },
    {
     "name": "stderr",
     "output_type": "stream",
     "text": [
      "/home/oclaich/anaconda3/envs/myenv/lib/python3.12/site-packages/urllib3/connectionpool.py:1097: InsecureRequestWarning: Unverified HTTPS request is being made to host 'api.insee.fr'. Adding certificate verification is strongly advised. See: https://urllib3.readthedocs.io/en/latest/advanced-usage.html#tls-warnings\n",
      "  warnings.warn(\n"
     ]
    },
    {
     "name": "stdout",
     "output_type": "stream",
     "text": [
      "Jeu de données : DS_TOUR_CAP \n",
      "Titre : Capacités d'hébergements touristiques \n",
      "Département 43 ajouté\n",
      "Making API request... (this may take a few seconds)\n"
     ]
    },
    {
     "name": "stderr",
     "output_type": "stream",
     "text": [
      "/home/oclaich/anaconda3/envs/myenv/lib/python3.12/site-packages/urllib3/connectionpool.py:1097: InsecureRequestWarning: Unverified HTTPS request is being made to host 'api.insee.fr'. Adding certificate verification is strongly advised. See: https://urllib3.readthedocs.io/en/latest/advanced-usage.html#tls-warnings\n",
      "  warnings.warn(\n"
     ]
    },
    {
     "name": "stdout",
     "output_type": "stream",
     "text": [
      "Jeu de données : DS_TOUR_CAP \n",
      "Titre : Capacités d'hébergements touristiques \n",
      "Département 44 ajouté\n",
      "Making API request... (this may take a few seconds)\n"
     ]
    },
    {
     "name": "stderr",
     "output_type": "stream",
     "text": [
      "/home/oclaich/anaconda3/envs/myenv/lib/python3.12/site-packages/urllib3/connectionpool.py:1097: InsecureRequestWarning: Unverified HTTPS request is being made to host 'api.insee.fr'. Adding certificate verification is strongly advised. See: https://urllib3.readthedocs.io/en/latest/advanced-usage.html#tls-warnings\n",
      "  warnings.warn(\n"
     ]
    },
    {
     "name": "stdout",
     "output_type": "stream",
     "text": [
      "Jeu de données : DS_TOUR_CAP \n",
      "Titre : Capacités d'hébergements touristiques \n",
      "Département 45 ajouté\n",
      "Making API request... (this may take a few seconds)\n"
     ]
    },
    {
     "name": "stderr",
     "output_type": "stream",
     "text": [
      "/home/oclaich/anaconda3/envs/myenv/lib/python3.12/site-packages/urllib3/connectionpool.py:1097: InsecureRequestWarning: Unverified HTTPS request is being made to host 'api.insee.fr'. Adding certificate verification is strongly advised. See: https://urllib3.readthedocs.io/en/latest/advanced-usage.html#tls-warnings\n",
      "  warnings.warn(\n"
     ]
    },
    {
     "name": "stdout",
     "output_type": "stream",
     "text": [
      "Jeu de données : DS_TOUR_CAP \n",
      "Titre : Capacités d'hébergements touristiques \n",
      "Département 46 ajouté\n",
      "Making API request... (this may take a few seconds)\n"
     ]
    },
    {
     "name": "stderr",
     "output_type": "stream",
     "text": [
      "/home/oclaich/anaconda3/envs/myenv/lib/python3.12/site-packages/urllib3/connectionpool.py:1097: InsecureRequestWarning: Unverified HTTPS request is being made to host 'api.insee.fr'. Adding certificate verification is strongly advised. See: https://urllib3.readthedocs.io/en/latest/advanced-usage.html#tls-warnings\n",
      "  warnings.warn(\n"
     ]
    },
    {
     "name": "stdout",
     "output_type": "stream",
     "text": [
      "Jeu de données : DS_TOUR_CAP \n",
      "Titre : Capacités d'hébergements touristiques \n",
      "Département 47 ajouté\n",
      "Making API request... (this may take a few seconds)\n"
     ]
    },
    {
     "name": "stderr",
     "output_type": "stream",
     "text": [
      "/home/oclaich/anaconda3/envs/myenv/lib/python3.12/site-packages/urllib3/connectionpool.py:1097: InsecureRequestWarning: Unverified HTTPS request is being made to host 'api.insee.fr'. Adding certificate verification is strongly advised. See: https://urllib3.readthedocs.io/en/latest/advanced-usage.html#tls-warnings\n",
      "  warnings.warn(\n"
     ]
    },
    {
     "name": "stdout",
     "output_type": "stream",
     "text": [
      "Jeu de données : DS_TOUR_CAP \n",
      "Titre : Capacités d'hébergements touristiques \n",
      "Département 48 ajouté\n",
      "Making API request... (this may take a few seconds)\n"
     ]
    },
    {
     "name": "stderr",
     "output_type": "stream",
     "text": [
      "/home/oclaich/anaconda3/envs/myenv/lib/python3.12/site-packages/urllib3/connectionpool.py:1097: InsecureRequestWarning: Unverified HTTPS request is being made to host 'api.insee.fr'. Adding certificate verification is strongly advised. See: https://urllib3.readthedocs.io/en/latest/advanced-usage.html#tls-warnings\n",
      "  warnings.warn(\n"
     ]
    },
    {
     "name": "stdout",
     "output_type": "stream",
     "text": [
      "Jeu de données : DS_TOUR_CAP \n",
      "Titre : Capacités d'hébergements touristiques \n",
      "Département 49 ajouté\n",
      "Making API request... (this may take a few seconds)\n"
     ]
    },
    {
     "name": "stderr",
     "output_type": "stream",
     "text": [
      "/home/oclaich/anaconda3/envs/myenv/lib/python3.12/site-packages/urllib3/connectionpool.py:1097: InsecureRequestWarning: Unverified HTTPS request is being made to host 'api.insee.fr'. Adding certificate verification is strongly advised. See: https://urllib3.readthedocs.io/en/latest/advanced-usage.html#tls-warnings\n",
      "  warnings.warn(\n"
     ]
    },
    {
     "name": "stdout",
     "output_type": "stream",
     "text": [
      "Jeu de données : DS_TOUR_CAP \n",
      "Titre : Capacités d'hébergements touristiques \n",
      "Département 50 ajouté\n",
      "Making API request... (this may take a few seconds)\n"
     ]
    },
    {
     "name": "stderr",
     "output_type": "stream",
     "text": [
      "/home/oclaich/anaconda3/envs/myenv/lib/python3.12/site-packages/urllib3/connectionpool.py:1097: InsecureRequestWarning: Unverified HTTPS request is being made to host 'api.insee.fr'. Adding certificate verification is strongly advised. See: https://urllib3.readthedocs.io/en/latest/advanced-usage.html#tls-warnings\n",
      "  warnings.warn(\n"
     ]
    },
    {
     "name": "stdout",
     "output_type": "stream",
     "text": [
      "Jeu de données : DS_TOUR_CAP \n",
      "Titre : Capacités d'hébergements touristiques \n",
      "Département 51 ajouté\n",
      "Making API request... (this may take a few seconds)\n"
     ]
    },
    {
     "name": "stderr",
     "output_type": "stream",
     "text": [
      "/home/oclaich/anaconda3/envs/myenv/lib/python3.12/site-packages/urllib3/connectionpool.py:1097: InsecureRequestWarning: Unverified HTTPS request is being made to host 'api.insee.fr'. Adding certificate verification is strongly advised. See: https://urllib3.readthedocs.io/en/latest/advanced-usage.html#tls-warnings\n",
      "  warnings.warn(\n"
     ]
    },
    {
     "name": "stdout",
     "output_type": "stream",
     "text": [
      "Jeu de données : DS_TOUR_CAP \n",
      "Titre : Capacités d'hébergements touristiques \n",
      "Département 52 ajouté\n",
      "Making API request... (this may take a few seconds)\n"
     ]
    },
    {
     "name": "stderr",
     "output_type": "stream",
     "text": [
      "/home/oclaich/anaconda3/envs/myenv/lib/python3.12/site-packages/urllib3/connectionpool.py:1097: InsecureRequestWarning: Unverified HTTPS request is being made to host 'api.insee.fr'. Adding certificate verification is strongly advised. See: https://urllib3.readthedocs.io/en/latest/advanced-usage.html#tls-warnings\n",
      "  warnings.warn(\n"
     ]
    },
    {
     "name": "stdout",
     "output_type": "stream",
     "text": [
      "Jeu de données : DS_TOUR_CAP \n",
      "Titre : Capacités d'hébergements touristiques \n",
      "Département 53 ajouté\n",
      "Making API request... (this may take a few seconds)\n"
     ]
    },
    {
     "name": "stderr",
     "output_type": "stream",
     "text": [
      "/home/oclaich/anaconda3/envs/myenv/lib/python3.12/site-packages/urllib3/connectionpool.py:1097: InsecureRequestWarning: Unverified HTTPS request is being made to host 'api.insee.fr'. Adding certificate verification is strongly advised. See: https://urllib3.readthedocs.io/en/latest/advanced-usage.html#tls-warnings\n",
      "  warnings.warn(\n"
     ]
    },
    {
     "name": "stdout",
     "output_type": "stream",
     "text": [
      "Jeu de données : DS_TOUR_CAP \n",
      "Titre : Capacités d'hébergements touristiques \n",
      "Département 54 ajouté\n",
      "Making API request... (this may take a few seconds)\n"
     ]
    },
    {
     "name": "stderr",
     "output_type": "stream",
     "text": [
      "/home/oclaich/anaconda3/envs/myenv/lib/python3.12/site-packages/urllib3/connectionpool.py:1097: InsecureRequestWarning: Unverified HTTPS request is being made to host 'api.insee.fr'. Adding certificate verification is strongly advised. See: https://urllib3.readthedocs.io/en/latest/advanced-usage.html#tls-warnings\n",
      "  warnings.warn(\n"
     ]
    },
    {
     "name": "stdout",
     "output_type": "stream",
     "text": [
      "Jeu de données : DS_TOUR_CAP \n",
      "Titre : Capacités d'hébergements touristiques \n",
      "Département 55 ajouté\n",
      "Making API request... (this may take a few seconds)\n"
     ]
    },
    {
     "name": "stderr",
     "output_type": "stream",
     "text": [
      "/home/oclaich/anaconda3/envs/myenv/lib/python3.12/site-packages/urllib3/connectionpool.py:1097: InsecureRequestWarning: Unverified HTTPS request is being made to host 'api.insee.fr'. Adding certificate verification is strongly advised. See: https://urllib3.readthedocs.io/en/latest/advanced-usage.html#tls-warnings\n",
      "  warnings.warn(\n"
     ]
    },
    {
     "name": "stdout",
     "output_type": "stream",
     "text": [
      "Jeu de données : DS_TOUR_CAP \n",
      "Titre : Capacités d'hébergements touristiques \n",
      "Département 56 ajouté\n",
      "Making API request... (this may take a few seconds)\n"
     ]
    },
    {
     "name": "stderr",
     "output_type": "stream",
     "text": [
      "/home/oclaich/anaconda3/envs/myenv/lib/python3.12/site-packages/urllib3/connectionpool.py:1097: InsecureRequestWarning: Unverified HTTPS request is being made to host 'api.insee.fr'. Adding certificate verification is strongly advised. See: https://urllib3.readthedocs.io/en/latest/advanced-usage.html#tls-warnings\n",
      "  warnings.warn(\n"
     ]
    },
    {
     "name": "stdout",
     "output_type": "stream",
     "text": [
      "Jeu de données : DS_TOUR_CAP \n",
      "Titre : Capacités d'hébergements touristiques \n",
      "Département 57 ajouté\n",
      "Making API request... (this may take a few seconds)\n"
     ]
    },
    {
     "name": "stderr",
     "output_type": "stream",
     "text": [
      "/home/oclaich/anaconda3/envs/myenv/lib/python3.12/site-packages/urllib3/connectionpool.py:1097: InsecureRequestWarning: Unverified HTTPS request is being made to host 'api.insee.fr'. Adding certificate verification is strongly advised. See: https://urllib3.readthedocs.io/en/latest/advanced-usage.html#tls-warnings\n",
      "  warnings.warn(\n"
     ]
    },
    {
     "name": "stdout",
     "output_type": "stream",
     "text": [
      "Jeu de données : DS_TOUR_CAP \n",
      "Titre : Capacités d'hébergements touristiques \n",
      "Département 58 ajouté\n",
      "Making API request... (this may take a few seconds)\n"
     ]
    },
    {
     "name": "stderr",
     "output_type": "stream",
     "text": [
      "/home/oclaich/anaconda3/envs/myenv/lib/python3.12/site-packages/urllib3/connectionpool.py:1097: InsecureRequestWarning: Unverified HTTPS request is being made to host 'api.insee.fr'. Adding certificate verification is strongly advised. See: https://urllib3.readthedocs.io/en/latest/advanced-usage.html#tls-warnings\n",
      "  warnings.warn(\n"
     ]
    },
    {
     "name": "stdout",
     "output_type": "stream",
     "text": [
      "Jeu de données : DS_TOUR_CAP \n",
      "Titre : Capacités d'hébergements touristiques \n",
      "Département 59 ajouté\n",
      "Making API request... (this may take a few seconds)\n"
     ]
    },
    {
     "name": "stderr",
     "output_type": "stream",
     "text": [
      "/home/oclaich/anaconda3/envs/myenv/lib/python3.12/site-packages/urllib3/connectionpool.py:1097: InsecureRequestWarning: Unverified HTTPS request is being made to host 'api.insee.fr'. Adding certificate verification is strongly advised. See: https://urllib3.readthedocs.io/en/latest/advanced-usage.html#tls-warnings\n",
      "  warnings.warn(\n"
     ]
    },
    {
     "name": "stdout",
     "output_type": "stream",
     "text": [
      "Jeu de données : DS_TOUR_CAP \n",
      "Titre : Capacités d'hébergements touristiques \n",
      "Département 60 ajouté\n",
      "Making API request... (this may take a few seconds)\n"
     ]
    },
    {
     "name": "stderr",
     "output_type": "stream",
     "text": [
      "/home/oclaich/anaconda3/envs/myenv/lib/python3.12/site-packages/urllib3/connectionpool.py:1097: InsecureRequestWarning: Unverified HTTPS request is being made to host 'api.insee.fr'. Adding certificate verification is strongly advised. See: https://urllib3.readthedocs.io/en/latest/advanced-usage.html#tls-warnings\n",
      "  warnings.warn(\n"
     ]
    },
    {
     "name": "stdout",
     "output_type": "stream",
     "text": [
      "Jeu de données : DS_TOUR_CAP \n",
      "Titre : Capacités d'hébergements touristiques \n",
      "Département 61 ajouté\n",
      "Making API request... (this may take a few seconds)\n"
     ]
    },
    {
     "name": "stderr",
     "output_type": "stream",
     "text": [
      "/home/oclaich/anaconda3/envs/myenv/lib/python3.12/site-packages/urllib3/connectionpool.py:1097: InsecureRequestWarning: Unverified HTTPS request is being made to host 'api.insee.fr'. Adding certificate verification is strongly advised. See: https://urllib3.readthedocs.io/en/latest/advanced-usage.html#tls-warnings\n",
      "  warnings.warn(\n"
     ]
    },
    {
     "name": "stdout",
     "output_type": "stream",
     "text": [
      "Jeu de données : DS_TOUR_CAP \n",
      "Titre : Capacités d'hébergements touristiques \n",
      "Département 62 ajouté\n",
      "Making API request... (this may take a few seconds)\n"
     ]
    },
    {
     "name": "stderr",
     "output_type": "stream",
     "text": [
      "/home/oclaich/anaconda3/envs/myenv/lib/python3.12/site-packages/urllib3/connectionpool.py:1097: InsecureRequestWarning: Unverified HTTPS request is being made to host 'api.insee.fr'. Adding certificate verification is strongly advised. See: https://urllib3.readthedocs.io/en/latest/advanced-usage.html#tls-warnings\n",
      "  warnings.warn(\n"
     ]
    },
    {
     "name": "stdout",
     "output_type": "stream",
     "text": [
      "Jeu de données : DS_TOUR_CAP \n",
      "Titre : Capacités d'hébergements touristiques \n",
      "Département 63 ajouté\n",
      "Making API request... (this may take a few seconds)\n"
     ]
    },
    {
     "name": "stderr",
     "output_type": "stream",
     "text": [
      "/home/oclaich/anaconda3/envs/myenv/lib/python3.12/site-packages/urllib3/connectionpool.py:1097: InsecureRequestWarning: Unverified HTTPS request is being made to host 'api.insee.fr'. Adding certificate verification is strongly advised. See: https://urllib3.readthedocs.io/en/latest/advanced-usage.html#tls-warnings\n",
      "  warnings.warn(\n"
     ]
    },
    {
     "name": "stdout",
     "output_type": "stream",
     "text": [
      "Jeu de données : DS_TOUR_CAP \n",
      "Titre : Capacités d'hébergements touristiques \n",
      "Département 64 ajouté\n",
      "Making API request... (this may take a few seconds)\n"
     ]
    },
    {
     "name": "stderr",
     "output_type": "stream",
     "text": [
      "/home/oclaich/anaconda3/envs/myenv/lib/python3.12/site-packages/urllib3/connectionpool.py:1097: InsecureRequestWarning: Unverified HTTPS request is being made to host 'api.insee.fr'. Adding certificate verification is strongly advised. See: https://urllib3.readthedocs.io/en/latest/advanced-usage.html#tls-warnings\n",
      "  warnings.warn(\n"
     ]
    },
    {
     "name": "stdout",
     "output_type": "stream",
     "text": [
      "Jeu de données : DS_TOUR_CAP \n",
      "Titre : Capacités d'hébergements touristiques \n",
      "Département 65 ajouté\n",
      "Making API request... (this may take a few seconds)\n"
     ]
    },
    {
     "name": "stderr",
     "output_type": "stream",
     "text": [
      "/home/oclaich/anaconda3/envs/myenv/lib/python3.12/site-packages/urllib3/connectionpool.py:1097: InsecureRequestWarning: Unverified HTTPS request is being made to host 'api.insee.fr'. Adding certificate verification is strongly advised. See: https://urllib3.readthedocs.io/en/latest/advanced-usage.html#tls-warnings\n",
      "  warnings.warn(\n"
     ]
    },
    {
     "name": "stdout",
     "output_type": "stream",
     "text": [
      "Jeu de données : DS_TOUR_CAP \n",
      "Titre : Capacités d'hébergements touristiques \n",
      "Département 66 ajouté\n",
      "Making API request... (this may take a few seconds)\n"
     ]
    },
    {
     "name": "stderr",
     "output_type": "stream",
     "text": [
      "/home/oclaich/anaconda3/envs/myenv/lib/python3.12/site-packages/urllib3/connectionpool.py:1097: InsecureRequestWarning: Unverified HTTPS request is being made to host 'api.insee.fr'. Adding certificate verification is strongly advised. See: https://urllib3.readthedocs.io/en/latest/advanced-usage.html#tls-warnings\n",
      "  warnings.warn(\n"
     ]
    },
    {
     "name": "stdout",
     "output_type": "stream",
     "text": [
      "Jeu de données : DS_TOUR_CAP \n",
      "Titre : Capacités d'hébergements touristiques \n",
      "Département 67 ajouté\n",
      "Making API request... (this may take a few seconds)\n"
     ]
    },
    {
     "name": "stderr",
     "output_type": "stream",
     "text": [
      "/home/oclaich/anaconda3/envs/myenv/lib/python3.12/site-packages/urllib3/connectionpool.py:1097: InsecureRequestWarning: Unverified HTTPS request is being made to host 'api.insee.fr'. Adding certificate verification is strongly advised. See: https://urllib3.readthedocs.io/en/latest/advanced-usage.html#tls-warnings\n",
      "  warnings.warn(\n"
     ]
    },
    {
     "name": "stdout",
     "output_type": "stream",
     "text": [
      "Jeu de données : DS_TOUR_CAP \n",
      "Titre : Capacités d'hébergements touristiques \n",
      "Département 68 ajouté\n",
      "Making API request... (this may take a few seconds)\n"
     ]
    },
    {
     "name": "stderr",
     "output_type": "stream",
     "text": [
      "/home/oclaich/anaconda3/envs/myenv/lib/python3.12/site-packages/urllib3/connectionpool.py:1097: InsecureRequestWarning: Unverified HTTPS request is being made to host 'api.insee.fr'. Adding certificate verification is strongly advised. See: https://urllib3.readthedocs.io/en/latest/advanced-usage.html#tls-warnings\n",
      "  warnings.warn(\n"
     ]
    },
    {
     "name": "stdout",
     "output_type": "stream",
     "text": [
      "Jeu de données : DS_TOUR_CAP \n",
      "Titre : Capacités d'hébergements touristiques \n",
      "Département 69 ajouté\n",
      "Making API request... (this may take a few seconds)\n"
     ]
    },
    {
     "name": "stderr",
     "output_type": "stream",
     "text": [
      "/home/oclaich/anaconda3/envs/myenv/lib/python3.12/site-packages/urllib3/connectionpool.py:1097: InsecureRequestWarning: Unverified HTTPS request is being made to host 'api.insee.fr'. Adding certificate verification is strongly advised. See: https://urllib3.readthedocs.io/en/latest/advanced-usage.html#tls-warnings\n",
      "  warnings.warn(\n"
     ]
    },
    {
     "name": "stdout",
     "output_type": "stream",
     "text": [
      "Jeu de données : DS_TOUR_CAP \n",
      "Titre : Capacités d'hébergements touristiques \n",
      "Département 70 ajouté\n",
      "Making API request... (this may take a few seconds)\n"
     ]
    },
    {
     "name": "stderr",
     "output_type": "stream",
     "text": [
      "/home/oclaich/anaconda3/envs/myenv/lib/python3.12/site-packages/urllib3/connectionpool.py:1097: InsecureRequestWarning: Unverified HTTPS request is being made to host 'api.insee.fr'. Adding certificate verification is strongly advised. See: https://urllib3.readthedocs.io/en/latest/advanced-usage.html#tls-warnings\n",
      "  warnings.warn(\n"
     ]
    },
    {
     "name": "stdout",
     "output_type": "stream",
     "text": [
      "Jeu de données : DS_TOUR_CAP \n",
      "Titre : Capacités d'hébergements touristiques \n",
      "Département 71 ajouté\n",
      "Making API request... (this may take a few seconds)\n"
     ]
    },
    {
     "name": "stderr",
     "output_type": "stream",
     "text": [
      "/home/oclaich/anaconda3/envs/myenv/lib/python3.12/site-packages/urllib3/connectionpool.py:1097: InsecureRequestWarning: Unverified HTTPS request is being made to host 'api.insee.fr'. Adding certificate verification is strongly advised. See: https://urllib3.readthedocs.io/en/latest/advanced-usage.html#tls-warnings\n",
      "  warnings.warn(\n"
     ]
    },
    {
     "name": "stdout",
     "output_type": "stream",
     "text": [
      "Jeu de données : DS_TOUR_CAP \n",
      "Titre : Capacités d'hébergements touristiques \n",
      "Département 72 ajouté\n",
      "Making API request... (this may take a few seconds)\n"
     ]
    },
    {
     "name": "stderr",
     "output_type": "stream",
     "text": [
      "/home/oclaich/anaconda3/envs/myenv/lib/python3.12/site-packages/urllib3/connectionpool.py:1097: InsecureRequestWarning: Unverified HTTPS request is being made to host 'api.insee.fr'. Adding certificate verification is strongly advised. See: https://urllib3.readthedocs.io/en/latest/advanced-usage.html#tls-warnings\n",
      "  warnings.warn(\n"
     ]
    },
    {
     "name": "stdout",
     "output_type": "stream",
     "text": [
      "Jeu de données : DS_TOUR_CAP \n",
      "Titre : Capacités d'hébergements touristiques \n",
      "Département 73 ajouté\n",
      "Making API request... (this may take a few seconds)\n"
     ]
    },
    {
     "name": "stderr",
     "output_type": "stream",
     "text": [
      "/home/oclaich/anaconda3/envs/myenv/lib/python3.12/site-packages/urllib3/connectionpool.py:1097: InsecureRequestWarning: Unverified HTTPS request is being made to host 'api.insee.fr'. Adding certificate verification is strongly advised. See: https://urllib3.readthedocs.io/en/latest/advanced-usage.html#tls-warnings\n",
      "  warnings.warn(\n"
     ]
    },
    {
     "name": "stdout",
     "output_type": "stream",
     "text": [
      "Jeu de données : DS_TOUR_CAP \n",
      "Titre : Capacités d'hébergements touristiques \n",
      "Département 74 ajouté\n",
      "Making API request... (this may take a few seconds)\n"
     ]
    },
    {
     "name": "stderr",
     "output_type": "stream",
     "text": [
      "/home/oclaich/anaconda3/envs/myenv/lib/python3.12/site-packages/urllib3/connectionpool.py:1097: InsecureRequestWarning: Unverified HTTPS request is being made to host 'api.insee.fr'. Adding certificate verification is strongly advised. See: https://urllib3.readthedocs.io/en/latest/advanced-usage.html#tls-warnings\n",
      "  warnings.warn(\n"
     ]
    },
    {
     "name": "stdout",
     "output_type": "stream",
     "text": [
      "Jeu de données : DS_TOUR_CAP \n",
      "Titre : Capacités d'hébergements touristiques \n",
      "Département 75 ajouté\n",
      "Making API request... (this may take a few seconds)\n"
     ]
    },
    {
     "name": "stderr",
     "output_type": "stream",
     "text": [
      "/home/oclaich/anaconda3/envs/myenv/lib/python3.12/site-packages/urllib3/connectionpool.py:1097: InsecureRequestWarning: Unverified HTTPS request is being made to host 'api.insee.fr'. Adding certificate verification is strongly advised. See: https://urllib3.readthedocs.io/en/latest/advanced-usage.html#tls-warnings\n",
      "  warnings.warn(\n"
     ]
    },
    {
     "name": "stdout",
     "output_type": "stream",
     "text": [
      "Jeu de données : DS_TOUR_CAP \n",
      "Titre : Capacités d'hébergements touristiques \n",
      "Département 76 ajouté\n",
      "Making API request... (this may take a few seconds)\n"
     ]
    },
    {
     "name": "stderr",
     "output_type": "stream",
     "text": [
      "/home/oclaich/anaconda3/envs/myenv/lib/python3.12/site-packages/urllib3/connectionpool.py:1097: InsecureRequestWarning: Unverified HTTPS request is being made to host 'api.insee.fr'. Adding certificate verification is strongly advised. See: https://urllib3.readthedocs.io/en/latest/advanced-usage.html#tls-warnings\n",
      "  warnings.warn(\n"
     ]
    },
    {
     "name": "stdout",
     "output_type": "stream",
     "text": [
      "Jeu de données : DS_TOUR_CAP \n",
      "Titre : Capacités d'hébergements touristiques \n",
      "Département 77 ajouté\n",
      "Making API request... (this may take a few seconds)\n"
     ]
    },
    {
     "name": "stderr",
     "output_type": "stream",
     "text": [
      "/home/oclaich/anaconda3/envs/myenv/lib/python3.12/site-packages/urllib3/connectionpool.py:1097: InsecureRequestWarning: Unverified HTTPS request is being made to host 'api.insee.fr'. Adding certificate verification is strongly advised. See: https://urllib3.readthedocs.io/en/latest/advanced-usage.html#tls-warnings\n",
      "  warnings.warn(\n"
     ]
    },
    {
     "name": "stdout",
     "output_type": "stream",
     "text": [
      "Jeu de données : DS_TOUR_CAP \n",
      "Titre : Capacités d'hébergements touristiques \n",
      "Département 78 ajouté\n",
      "Making API request... (this may take a few seconds)\n"
     ]
    },
    {
     "name": "stderr",
     "output_type": "stream",
     "text": [
      "/home/oclaich/anaconda3/envs/myenv/lib/python3.12/site-packages/urllib3/connectionpool.py:1097: InsecureRequestWarning: Unverified HTTPS request is being made to host 'api.insee.fr'. Adding certificate verification is strongly advised. See: https://urllib3.readthedocs.io/en/latest/advanced-usage.html#tls-warnings\n",
      "  warnings.warn(\n"
     ]
    },
    {
     "name": "stdout",
     "output_type": "stream",
     "text": [
      "Jeu de données : DS_TOUR_CAP \n",
      "Titre : Capacités d'hébergements touristiques \n",
      "Département 79 ajouté\n",
      "Making API request... (this may take a few seconds)\n"
     ]
    },
    {
     "name": "stderr",
     "output_type": "stream",
     "text": [
      "/home/oclaich/anaconda3/envs/myenv/lib/python3.12/site-packages/urllib3/connectionpool.py:1097: InsecureRequestWarning: Unverified HTTPS request is being made to host 'api.insee.fr'. Adding certificate verification is strongly advised. See: https://urllib3.readthedocs.io/en/latest/advanced-usage.html#tls-warnings\n",
      "  warnings.warn(\n"
     ]
    },
    {
     "name": "stdout",
     "output_type": "stream",
     "text": [
      "Jeu de données : DS_TOUR_CAP \n",
      "Titre : Capacités d'hébergements touristiques \n",
      "Département 80 ajouté\n",
      "Making API request... (this may take a few seconds)\n"
     ]
    },
    {
     "name": "stderr",
     "output_type": "stream",
     "text": [
      "/home/oclaich/anaconda3/envs/myenv/lib/python3.12/site-packages/urllib3/connectionpool.py:1097: InsecureRequestWarning: Unverified HTTPS request is being made to host 'api.insee.fr'. Adding certificate verification is strongly advised. See: https://urllib3.readthedocs.io/en/latest/advanced-usage.html#tls-warnings\n",
      "  warnings.warn(\n"
     ]
    },
    {
     "name": "stdout",
     "output_type": "stream",
     "text": [
      "Jeu de données : DS_TOUR_CAP \n",
      "Titre : Capacités d'hébergements touristiques \n",
      "Département 81 ajouté\n",
      "Making API request... (this may take a few seconds)\n"
     ]
    },
    {
     "name": "stderr",
     "output_type": "stream",
     "text": [
      "/home/oclaich/anaconda3/envs/myenv/lib/python3.12/site-packages/urllib3/connectionpool.py:1097: InsecureRequestWarning: Unverified HTTPS request is being made to host 'api.insee.fr'. Adding certificate verification is strongly advised. See: https://urllib3.readthedocs.io/en/latest/advanced-usage.html#tls-warnings\n",
      "  warnings.warn(\n"
     ]
    },
    {
     "name": "stdout",
     "output_type": "stream",
     "text": [
      "Jeu de données : DS_TOUR_CAP \n",
      "Titre : Capacités d'hébergements touristiques \n",
      "Département 82 ajouté\n",
      "Making API request... (this may take a few seconds)\n"
     ]
    },
    {
     "name": "stderr",
     "output_type": "stream",
     "text": [
      "/home/oclaich/anaconda3/envs/myenv/lib/python3.12/site-packages/urllib3/connectionpool.py:1097: InsecureRequestWarning: Unverified HTTPS request is being made to host 'api.insee.fr'. Adding certificate verification is strongly advised. See: https://urllib3.readthedocs.io/en/latest/advanced-usage.html#tls-warnings\n",
      "  warnings.warn(\n"
     ]
    },
    {
     "name": "stdout",
     "output_type": "stream",
     "text": [
      "Jeu de données : DS_TOUR_CAP \n",
      "Titre : Capacités d'hébergements touristiques \n",
      "Département 83 ajouté\n",
      "Making API request... (this may take a few seconds)\n"
     ]
    },
    {
     "name": "stderr",
     "output_type": "stream",
     "text": [
      "/home/oclaich/anaconda3/envs/myenv/lib/python3.12/site-packages/urllib3/connectionpool.py:1097: InsecureRequestWarning: Unverified HTTPS request is being made to host 'api.insee.fr'. Adding certificate verification is strongly advised. See: https://urllib3.readthedocs.io/en/latest/advanced-usage.html#tls-warnings\n",
      "  warnings.warn(\n"
     ]
    },
    {
     "name": "stdout",
     "output_type": "stream",
     "text": [
      "Jeu de données : DS_TOUR_CAP \n",
      "Titre : Capacités d'hébergements touristiques \n",
      "Département 84 ajouté\n",
      "Making API request... (this may take a few seconds)\n"
     ]
    },
    {
     "name": "stderr",
     "output_type": "stream",
     "text": [
      "/home/oclaich/anaconda3/envs/myenv/lib/python3.12/site-packages/urllib3/connectionpool.py:1097: InsecureRequestWarning: Unverified HTTPS request is being made to host 'api.insee.fr'. Adding certificate verification is strongly advised. See: https://urllib3.readthedocs.io/en/latest/advanced-usage.html#tls-warnings\n",
      "  warnings.warn(\n"
     ]
    },
    {
     "name": "stdout",
     "output_type": "stream",
     "text": [
      "Jeu de données : DS_TOUR_CAP \n",
      "Titre : Capacités d'hébergements touristiques \n",
      "Département 85 ajouté\n",
      "Making API request... (this may take a few seconds)\n"
     ]
    },
    {
     "name": "stderr",
     "output_type": "stream",
     "text": [
      "/home/oclaich/anaconda3/envs/myenv/lib/python3.12/site-packages/urllib3/connectionpool.py:1097: InsecureRequestWarning: Unverified HTTPS request is being made to host 'api.insee.fr'. Adding certificate verification is strongly advised. See: https://urllib3.readthedocs.io/en/latest/advanced-usage.html#tls-warnings\n",
      "  warnings.warn(\n"
     ]
    },
    {
     "name": "stdout",
     "output_type": "stream",
     "text": [
      "Jeu de données : DS_TOUR_CAP \n",
      "Titre : Capacités d'hébergements touristiques \n",
      "Département 86 ajouté\n",
      "Making API request... (this may take a few seconds)\n"
     ]
    },
    {
     "name": "stderr",
     "output_type": "stream",
     "text": [
      "/home/oclaich/anaconda3/envs/myenv/lib/python3.12/site-packages/urllib3/connectionpool.py:1097: InsecureRequestWarning: Unverified HTTPS request is being made to host 'api.insee.fr'. Adding certificate verification is strongly advised. See: https://urllib3.readthedocs.io/en/latest/advanced-usage.html#tls-warnings\n",
      "  warnings.warn(\n"
     ]
    },
    {
     "name": "stdout",
     "output_type": "stream",
     "text": [
      "Jeu de données : DS_TOUR_CAP \n",
      "Titre : Capacités d'hébergements touristiques \n",
      "Département 87 ajouté\n",
      "Making API request... (this may take a few seconds)\n"
     ]
    },
    {
     "name": "stderr",
     "output_type": "stream",
     "text": [
      "/home/oclaich/anaconda3/envs/myenv/lib/python3.12/site-packages/urllib3/connectionpool.py:1097: InsecureRequestWarning: Unverified HTTPS request is being made to host 'api.insee.fr'. Adding certificate verification is strongly advised. See: https://urllib3.readthedocs.io/en/latest/advanced-usage.html#tls-warnings\n",
      "  warnings.warn(\n"
     ]
    },
    {
     "name": "stdout",
     "output_type": "stream",
     "text": [
      "Jeu de données : DS_TOUR_CAP \n",
      "Titre : Capacités d'hébergements touristiques \n",
      "Département 88 ajouté\n",
      "Making API request... (this may take a few seconds)\n"
     ]
    },
    {
     "name": "stderr",
     "output_type": "stream",
     "text": [
      "/home/oclaich/anaconda3/envs/myenv/lib/python3.12/site-packages/urllib3/connectionpool.py:1097: InsecureRequestWarning: Unverified HTTPS request is being made to host 'api.insee.fr'. Adding certificate verification is strongly advised. See: https://urllib3.readthedocs.io/en/latest/advanced-usage.html#tls-warnings\n",
      "  warnings.warn(\n"
     ]
    },
    {
     "name": "stdout",
     "output_type": "stream",
     "text": [
      "Jeu de données : DS_TOUR_CAP \n",
      "Titre : Capacités d'hébergements touristiques \n",
      "Département 89 ajouté\n",
      "Making API request... (this may take a few seconds)\n"
     ]
    },
    {
     "name": "stderr",
     "output_type": "stream",
     "text": [
      "/home/oclaich/anaconda3/envs/myenv/lib/python3.12/site-packages/urllib3/connectionpool.py:1097: InsecureRequestWarning: Unverified HTTPS request is being made to host 'api.insee.fr'. Adding certificate verification is strongly advised. See: https://urllib3.readthedocs.io/en/latest/advanced-usage.html#tls-warnings\n",
      "  warnings.warn(\n"
     ]
    },
    {
     "name": "stdout",
     "output_type": "stream",
     "text": [
      "Jeu de données : DS_TOUR_CAP \n",
      "Titre : Capacités d'hébergements touristiques \n",
      "Département 90 ajouté\n",
      "Making API request... (this may take a few seconds)\n"
     ]
    },
    {
     "name": "stderr",
     "output_type": "stream",
     "text": [
      "/home/oclaich/anaconda3/envs/myenv/lib/python3.12/site-packages/urllib3/connectionpool.py:1097: InsecureRequestWarning: Unverified HTTPS request is being made to host 'api.insee.fr'. Adding certificate verification is strongly advised. See: https://urllib3.readthedocs.io/en/latest/advanced-usage.html#tls-warnings\n",
      "  warnings.warn(\n"
     ]
    },
    {
     "name": "stdout",
     "output_type": "stream",
     "text": [
      "Jeu de données : DS_TOUR_CAP \n",
      "Titre : Capacités d'hébergements touristiques \n",
      "Département 91 ajouté\n",
      "Making API request... (this may take a few seconds)\n"
     ]
    },
    {
     "name": "stderr",
     "output_type": "stream",
     "text": [
      "/home/oclaich/anaconda3/envs/myenv/lib/python3.12/site-packages/urllib3/connectionpool.py:1097: InsecureRequestWarning: Unverified HTTPS request is being made to host 'api.insee.fr'. Adding certificate verification is strongly advised. See: https://urllib3.readthedocs.io/en/latest/advanced-usage.html#tls-warnings\n",
      "  warnings.warn(\n"
     ]
    },
    {
     "name": "stdout",
     "output_type": "stream",
     "text": [
      "Jeu de données : DS_TOUR_CAP \n",
      "Titre : Capacités d'hébergements touristiques \n",
      "Département 92 ajouté\n",
      "Making API request... (this may take a few seconds)\n"
     ]
    },
    {
     "name": "stderr",
     "output_type": "stream",
     "text": [
      "/home/oclaich/anaconda3/envs/myenv/lib/python3.12/site-packages/urllib3/connectionpool.py:1097: InsecureRequestWarning: Unverified HTTPS request is being made to host 'api.insee.fr'. Adding certificate verification is strongly advised. See: https://urllib3.readthedocs.io/en/latest/advanced-usage.html#tls-warnings\n",
      "  warnings.warn(\n"
     ]
    },
    {
     "name": "stdout",
     "output_type": "stream",
     "text": [
      "Jeu de données : DS_TOUR_CAP \n",
      "Titre : Capacités d'hébergements touristiques \n",
      "Département 93 ajouté\n",
      "Making API request... (this may take a few seconds)\n"
     ]
    },
    {
     "name": "stderr",
     "output_type": "stream",
     "text": [
      "/home/oclaich/anaconda3/envs/myenv/lib/python3.12/site-packages/urllib3/connectionpool.py:1097: InsecureRequestWarning: Unverified HTTPS request is being made to host 'api.insee.fr'. Adding certificate verification is strongly advised. See: https://urllib3.readthedocs.io/en/latest/advanced-usage.html#tls-warnings\n",
      "  warnings.warn(\n"
     ]
    },
    {
     "name": "stdout",
     "output_type": "stream",
     "text": [
      "Jeu de données : DS_TOUR_CAP \n",
      "Titre : Capacités d'hébergements touristiques \n",
      "Département 94 ajouté\n",
      "Making API request... (this may take a few seconds)\n"
     ]
    },
    {
     "name": "stderr",
     "output_type": "stream",
     "text": [
      "/home/oclaich/anaconda3/envs/myenv/lib/python3.12/site-packages/urllib3/connectionpool.py:1097: InsecureRequestWarning: Unverified HTTPS request is being made to host 'api.insee.fr'. Adding certificate verification is strongly advised. See: https://urllib3.readthedocs.io/en/latest/advanced-usage.html#tls-warnings\n",
      "  warnings.warn(\n"
     ]
    },
    {
     "name": "stdout",
     "output_type": "stream",
     "text": [
      "Jeu de données : DS_TOUR_CAP \n",
      "Titre : Capacités d'hébergements touristiques \n",
      "Département 95 ajouté\n",
      "  insee_code dept_code id_activity       activity_type  capacity\n",
      "0      01117        01        I553  Terrain de camping       0.0\n",
      "1      01130        01        I553  Terrain de camping       0.0\n",
      "2      01129        01        I551               Hôtel       0.0\n",
      "3      01110        01        I553  Terrain de camping       0.0\n",
      "4      01094        01        I553  Terrain de camping      54.0\n"
     ]
    }
   ],
   "source": [
    "df_capacite = extract_affluences.extract_data_capacite()\n",
    "\n",
    "df_capacite = transform_affluences.transform_data_capacite(df_capacite)\n",
    "\n",
    "print(df_capacite.head())"
   ]
  },
  {
   "cell_type": "code",
   "execution_count": 3,
   "id": "6106ae06",
   "metadata": {},
   "outputs": [
    {
     "name": "stdout",
     "output_type": "stream",
     "text": [
      "Making API request... (this may take a few seconds)\n"
     ]
    },
    {
     "name": "stderr",
     "output_type": "stream",
     "text": [
      "/home/oclaich/anaconda3/envs/myenv/lib/python3.12/site-packages/urllib3/connectionpool.py:1097: InsecureRequestWarning: Unverified HTTPS request is being made to host 'api.insee.fr'. Adding certificate verification is strongly advised. See: https://urllib3.readthedocs.io/en/latest/advanced-usage.html#tls-warnings\n",
      "  warnings.warn(\n"
     ]
    },
    {
     "name": "stdout",
     "output_type": "stream",
     "text": [
      "Jeu de données : DS_TOUR_FREQ \n",
      "Titre : Fréquentation des hébergements touristiques  \n",
      "   dept_code time_period   nb_nights  nb_nights_hotel_year  \\\n",
      "0         77     2024-08  849.031890           9382.427317   \n",
      "1         78     2024-08  184.521706           2025.756604   \n",
      "2         79     2024-08   44.855846            414.175758   \n",
      "3         80     2024-08  109.407127            876.947440   \n",
      "4         76     2024-08  323.064402           2469.206482   \n",
      "5         81     2024-08   47.140709            426.362255   \n",
      "6         82     2024-08   38.783330            353.124726   \n",
      "7         83     2024-08  670.529926           3805.799456   \n",
      "8         84     2024-08  278.910635           2206.375169   \n",
      "9         85     2024-08  274.802288           1621.289930   \n",
      "10        86     2024-08  260.139920           1780.973383   \n",
      "11        87     2024-08   70.093109            614.809323   \n",
      "\n",
      "    nb_nights_camping_year  \n",
      "0                 1098.212  \n",
      "1                  266.633  \n",
      "2                  197.125  \n",
      "3                 1548.149  \n",
      "4                  764.921  \n",
      "5                  349.151  \n",
      "6                  195.616  \n",
      "7                 9294.394  \n",
      "8                 1920.192  \n",
      "9                 9435.547  \n",
      "10                 400.707  \n",
      "11                 230.180  \n",
      "  dept_code time_period id_activity activity_type   nb_nights\n",
      "0        77     2024-08        I551         Hôtel  849.031890\n",
      "1        78     2024-08        I551         Hôtel  184.521706\n",
      "2        79     2024-08        I551         Hôtel   44.855846\n",
      "3        80     2024-08        I551         Hôtel  109.407127\n",
      "4        76     2024-08        I551         Hôtel  323.064402\n"
     ]
    }
   ],
   "source": [
    "df_nb_nuitees = extract_affluences.extract_data_nb_nuitees()\n",
    "\n",
    "df_nb_nuitees = transform_affluences.transform_data_nb_nuitees(df_nb_nuitees)\n",
    "\n",
    "print(df_nb_nuitees.head())"
   ]
  },
  {
   "cell_type": "code",
   "execution_count": 6,
   "id": "260fa1d9",
   "metadata": {},
   "outputs": [
    {
     "name": "stdout",
     "output_type": "stream",
     "text": [
      "69276\n",
      "2424\n"
     ]
    }
   ],
   "source": [
    "print(len(df_capacite))\n",
    "print(len(df_nb_nuitees))"
   ]
  },
  {
   "cell_type": "code",
   "execution_count": 5,
   "id": "cdabe4fc",
   "metadata": {},
   "outputs": [
    {
     "name": "stdout",
     "output_type": "stream",
     "text": [
      "      insee_code dept_code id_activity       activity_type  capacity\n",
      "23398      31555        31        I553  Terrain de camping     194.0\n",
      "23505      31555        31        I551               Hôtel    5611.0\n"
     ]
    }
   ],
   "source": [
    "print(df_capacite[df_capacite['insee_code'] == '31555'])"
   ]
  },
  {
   "cell_type": "code",
   "execution_count": 5,
   "id": "29afb7ba",
   "metadata": {},
   "outputs": [
    {
     "name": "stdout",
     "output_type": "stream",
     "text": [
      "['Hôtel' 'Camping']\n"
     ]
    }
   ],
   "source": [
    "print(df_nb_nuitees['activity_type'].unique())"
   ]
  },
  {
   "cell_type": "code",
   "execution_count": 3,
   "id": "2f0d15f4",
   "metadata": {},
   "outputs": [
    {
     "name": "stdout",
     "output_type": "stream",
     "text": [
      "     dept_code time_period id_activity activity_type   nb_nights\n",
      "44          14     2024-08        I551         Hôtel  474.861037\n",
      "185         14     2024-09        I551         Hôtel  352.355402\n",
      "214         14     2024-10        I551         Hôtel  295.696568\n",
      "319         14     2024-11        I551         Hôtel  207.462746\n",
      "466         14     2024-12        I551         Hôtel  162.877330\n",
      "1037        14     2024-07        I551         Hôtel  386.130000\n",
      "1040        14     2024-01        I551         Hôtel  129.650000\n",
      "1042        14     2024-02        I551         Hôtel  172.220000\n",
      "1043        14     2024-03        I551         Hôtel  241.570000\n",
      "1044        14     2024-06        I551         Hôtel  377.330000\n",
      "1046        14     2024-05        I551         Hôtel  366.940000\n",
      "1062        14     2024-04        I551         Hôtel  281.350000\n",
      "1256        14     2024-08        I553       Camping  355.435837\n",
      "1397        14     2024-09        I553       Camping  263.739762\n",
      "1426        14     2024-10        I553       Camping  221.330345\n",
      "1531        14     2024-11        I553       Camping  155.286892\n",
      "1678        14     2024-12        I553       Camping  121.914487\n",
      "2249        14     2024-07        I553       Camping  289.020216\n",
      "2252        14     2024-01        I553       Camping   97.043667\n",
      "2254        14     2024-02        I553       Camping  128.907522\n",
      "2255        14     2024-03        I553       Camping  180.816341\n",
      "2256        14     2024-06        I553       Camping  282.433373\n",
      "2258        14     2024-05        I553       Camping  274.656406\n",
      "2274        14     2024-04        I553       Camping  210.591868\n"
     ]
    }
   ],
   "source": [
    "print(df_nb_nuitees[df_nb_nuitees['dept_code'] == '14'])"
   ]
  },
  {
   "cell_type": "code",
   "execution_count": null,
   "id": "30367109",
   "metadata": {},
   "outputs": [
    {
     "name": "stdout",
     "output_type": "stream",
     "text": [
      "58210    87016.0\n",
      "64913    52198.0\n",
      "64912    52198.0\n",
      "65012    52198.0\n",
      "65010    52198.0\n",
      "          ...   \n",
      "68695        0.0\n",
      "68698        0.0\n",
      "68699        0.0\n",
      "68700        0.0\n",
      "68701        0.0\n",
      "Name: capacity, Length: 69276, dtype: float64\n"
     ]
    }
   ],
   "source": [
    "print(df_capacite.groupby(\n",
    "                        ['dept_code', 'id_activity']\n",
    "                    )['capacity'].transform('sum').sort_values(ascending=False))"
   ]
  },
  {
   "cell_type": "code",
   "execution_count": 4,
   "id": "cf745a32",
   "metadata": {},
   "outputs": [
    {
     "name": "stdout",
     "output_type": "stream",
     "text": [
      "       insee_code dept_code id_activity       activity_type  capacity_city  \\\n",
      "107724      14118        14        I551               Hôtel         1327.0   \n",
      "109440      14220        14        I551               Hôtel         1093.0   \n",
      "107729      14118        14        I551               Hôtel         1327.0   \n",
      "107733      14118        14        I551               Hôtel         1327.0   \n",
      "107734      14118        14        I551               Hôtel         1327.0   \n",
      "...           ...       ...         ...                 ...            ...   \n",
      "110722      14630        14        I553  Terrain de camping            0.0   \n",
      "110723      14630        14        I553  Terrain de camping            0.0   \n",
      "110724      14348        14        I553  Terrain de camping            0.0   \n",
      "110725      14348        14        I553  Terrain de camping            0.0   \n",
      "110715      14630        14        I553  Terrain de camping            0.0   \n",
      "\n",
      "        capacity_dept time_period  nb_nights_dept  nb_nights_city  \n",
      "107724        10509.0     2024-08      474.861037    59961.994118  \n",
      "109440        10509.0     2024-08      474.861037    49388.439767  \n",
      "107729        10509.0     2024-07      386.130000    48757.684842  \n",
      "107733        10509.0     2024-06      377.330000    47646.484918  \n",
      "107734        10509.0     2024-05      366.940000    46334.511371  \n",
      "...               ...         ...             ...             ...  \n",
      "110722        12693.0     2024-05      274.656406        0.000000  \n",
      "110723        12693.0     2024-04      210.591868        0.000000  \n",
      "110724        12693.0     2024-08      355.435837        0.000000  \n",
      "110725        12693.0     2024-09      263.739762        0.000000  \n",
      "110715        12693.0     2024-11      155.286892        0.000000  \n",
      "\n",
      "[12552 rows x 9 columns]\n"
     ]
    }
   ],
   "source": [
    "df_affluences = transform_affluences.creation_dataframe_affluences(df_capacite,df_nb_nuitees)\n",
    "\n",
    "print(df_affluences[df_affluences['dept_code'] == '14'].sort_values(by='nb_nights_city',ascending=False))"
   ]
  },
  {
   "cell_type": "markdown",
   "id": "35a946d5",
   "metadata": {},
   "source": [
    "On a donc un tableau avec : pour chaque ville, chaque mois de l'année, le nombre de nuitées passées dans la ville en hôtel et en camping. On pourra penser à \"pivoter\" le dataframe pour avoir sur une même ligne le nombre pour les hôtels et le nombre pour les campings.  \n",
    "Reste à faire -> passer de l'échelle de la ville à l'échelle du cluster. Attribuer chaque ville au cluster auquel elle appartient, puis rendre un nouveau dataframe avec 1 ligne = 1 cluster x 1 type d'hébergement x 1 mois de l'année x 1 nb de nuitées dans le cluster (on somme les valeurs pour toutes les villes appartenant au cluster)  \n",
    "Il faut juste se procurer un moyen d'identifier, à partir du code INSEE, le cluster auquel appartient une ville.  \n",
    "Puis la partie Loading"
   ]
  }
 ],
 "metadata": {
  "kernelspec": {
   "display_name": "myenv",
   "language": "python",
   "name": "python3"
  },
  "language_info": {
   "codemirror_mode": {
    "name": "ipython",
    "version": 3
   },
   "file_extension": ".py",
   "mimetype": "text/x-python",
   "name": "python",
   "nbconvert_exporter": "python",
   "pygments_lexer": "ipython3",
   "version": "3.12.11"
  }
 },
 "nbformat": 4,
 "nbformat_minor": 5
}
