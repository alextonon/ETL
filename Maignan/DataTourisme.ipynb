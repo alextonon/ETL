{
 "cells": [
  {
   "cell_type": "markdown",
   "id": "0a260669",
   "metadata": {},
   "source": [
    "# Extracte"
   ]
  },
  {
   "cell_type": "code",
   "execution_count": null,
   "id": "51543d94",
   "metadata": {},
   "outputs": [],
   "source": [
    "import pandas as pd\n",
    "import requests\n",
    "from sqlalchemy import create_engine, text\n"
   ]
  },
  {
   "cell_type": "code",
   "execution_count": null,
   "id": "7ed5ede7",
   "metadata": {},
   "outputs": [],
   "source": [
    "def extract_csv(list_csv):\n",
    "\n",
    "\n",
    "    api_url = \"https://www.data.gouv.fr/api/2/datasets/5b598be088ee387c0c353714/resources/?page=1&page_size=50\" # La requette est sur le /states/all et c'est la que les param sont important et préciser\n",
    "    \n",
    "\n",
    "    \n",
    "    try:\n",
    "        print(\"Making API request... (this may take a few seconds)\")\n",
    "        \n",
    "\n",
    "\n",
    "        response = requests.get(api_url, timeout=10)\n",
    "        \n",
    "\n",
    "\n",
    "        if response.status_code == 200: #status_code = le statu html de la reponse et 200 c'est quand c'est bon\n",
    "            print(\"Cela fonctionne\")\n",
    "\n",
    "\n",
    "\n",
    "            data = response.json() # Vas cherche les données de la request (voir ca comme les ROS)\n",
    "        \n",
    "            for part in data.get('data', []):\n",
    "\n",
    "                title = part.get('title')\n",
    "                \n",
    "\n",
    "                if title in  list_csv:\n",
    "                    \n",
    "                    url_csv  = part.get('url')\n",
    "\n",
    "                    requests_csv = requests.get(url_csv)\n",
    "\n",
    "                    if requests_csv.status_code == 200:\n",
    "\n",
    "                        with open(\"data/\"+ title, \"wb\") as f:\n",
    "                            f.write(requests_csv.content)\n",
    "\n",
    "\n",
    "        print(f\"Created all CSV\")\n",
    "    \n",
    "    except requests.exceptions.RequestException as e:\n",
    "        print(f\"❌ Network error fetching data: {e}\")\n",
    "        return pd.DataFrame()\n",
    "    except Exception as e:\n",
    "        print(f\"❌ Error processing data: {e}\")\n",
    "        return pd.DataFrame()"
   ]
  },
  {
   "cell_type": "code",
   "execution_count": null,
   "id": "d000d695",
   "metadata": {},
   "outputs": [],
   "source": [
    "def extract_data(list_chemin):\n",
    "\n",
    "    # print(\"📄 Reading tourism data from CSV...\")\n",
    "    \n",
    "    try:\n",
    "\n",
    "        df = pd.DataFrame()\n",
    "        for chemin in list_chemin:\n",
    "            df = pd.concat([df, pd.read_csv(\"../data/\"+ chemin)], ignore_index=True)\n",
    "\n",
    "        print('Data retreived in a dataframe')\n",
    "        return df\n",
    "        \n",
    "    except Exception as e:\n",
    "        print(f\"❌ Error reading data: {e}\")\n",
    "        return pd.DataFrame()\n",
    "\n"
   ]
  },
  {
   "cell_type": "code",
   "execution_count": null,
   "id": "151915d7",
   "metadata": {},
   "outputs": [],
   "source": [
    "list_df = [\"datatourisme-reg-ara.csv\", \"datatourisme-reg-bfc.csv\", \"datatourisme-reg-bre.csv\",\n",
    "        \"datatourisme-reg-cor.csv\", \"datatourisme-reg-cvl.csv\", \"datatourisme-reg-gde.csv\",\n",
    "        \"datatourisme-reg-hdf.csv\", \"datatourisme-reg-naq.csv\", \"datatourisme-reg-nor.csv\",\n",
    "        \"datatourisme-reg-idf.csv\",  \"datatourisme-reg-occ.csv\", \"datatourisme-reg-pac.csv\",\n",
    "        \"datatourisme-reg-pdl.csv\"] # \"datatourisme-reg-guf\", \"datatourisme-reg-myt\", , \"datatourisme-reg-reu\", \"datatourisme-reg-glp\",\"datatourisme-reg-mtq\","
   ]
  },
  {
   "cell_type": "code",
   "execution_count": null,
   "id": "fa748f8e",
   "metadata": {},
   "outputs": [],
   "source": [
    "extract_csv(list_df)\n",
    "\n",
    "df = extract_data(list_df)"
   ]
  },
  {
   "cell_type": "markdown",
   "id": "bf04eeab",
   "metadata": {},
   "source": [
    "# Transforme"
   ]
  },
  {
   "cell_type": "code",
   "execution_count": null,
   "id": "8f04556e",
   "metadata": {},
   "outputs": [],
   "source": [
    "def clean_data(df_tourism):\n",
    "\n",
    "    if df_tourism.empty:\n",
    "        print(\"⚠️  No airport data to clean\")\n",
    "        return df_tourism\n",
    "    \n",
    "    print(f\"🧹 Cleaning  data...\")\n",
    "    print(f\"Starting with {len(df_tourism)} \")\n",
    "    \n",
    "    # Make a copy to avoid modifying the original\n",
    "    df = df_tourism.copy()\n",
    "\n",
    "    # Drop the usless data\n",
    "    df.drop(['Periodes_regroupees', 'Covid19_mesures_specifiques', 'Contacts_du_POI', 'Classements_du_POI'], axis=1)\n",
    "\n",
    "\n",
    "    # On récupère uniquement les catégorie de POI\n",
    "    df[\"Categories_de_POI\"] = df[\"Categories_de_POI\"].str.split('/').str[-1]\n",
    "    df[\"Categories_de_POI\"] = df[\"Categories_de_POI\"].str.split('#').str[-1]\n",
    "\n",
    "    # On découpe la colone en 3 pour plus de clareter\n",
    "    col_index = df.columns.get_loc(\"Code_postal_et_commune\")\n",
    "\n",
    "    df_temp = df[\"Code_postal_et_commune\"].str.split('#', expand=True)\n",
    "    df_temp.columns = [\"Code_postale\", \"Commune\"]\n",
    "    df_temp[\"Département\"] = df_temp[\"Code_postale\"].str[0:2]\n",
    "\n",
    "    df.drop(columns=[\"Code_postal_et_commune\"], inplace=True)\n",
    "\n",
    "\n",
    "    df.insert(col_index, \"Département\", df_temp[\"Département\"])\n",
    "    df.insert(col_index + 1, \"Code_postale\", df_temp[\"Code_postale\"])\n",
    "    df.insert(col_index + 2, \"Commune\", df_temp[\"Commune\"])\n",
    "\n",
    "    # On drop les valeur null\n",
    "    df = df.dropna(subset=[\"Nom_du_POI\", \"Categories_de_POI\", 'Latitude', 'Longitude']) # ,\"Adresse_postale\"]) \n",
    "\n",
    "    # Passage des dates en format date\n",
    "    df[\"Date_de_mise_a_jour\"] = pd.to_datetime(df[\"Date_de_mise_a_jour\"])\n",
    "\n",
    "    \n",
    "    print(f'Il reste {len(df)} data après nettoyage.')  \n",
    "\n",
    "    return df"
   ]
  },
  {
   "cell_type": "markdown",
   "id": "8297d5cf",
   "metadata": {},
   "source": [
    "# Load"
   ]
  },
  {
   "cell_type": "code",
   "execution_count": null,
   "id": "e3b1a52f",
   "metadata": {},
   "outputs": [],
   "source": [
    "DATABASE_CONFIG = {\n",
    "    'username': 'alexm',\n",
    "    'password': '', \n",
    "    'host': 'localhost',\n",
    "    'port': '5432',\n",
    "    'database': 'airlife_db'\n",
    "}"
   ]
  },
  {
   "cell_type": "code",
   "execution_count": null,
   "id": "44882a1a",
   "metadata": {},
   "outputs": [],
   "source": [
    "def get_connection_string():\n",
    "    \"\"\"Build PostgreSQL connection string\"\"\"\n",
    "    return f\"postgresql://{DATABASE_CONFIG['username']}:{DATABASE_CONFIG['password']}@{DATABASE_CONFIG['host']}:{DATABASE_CONFIG['port']}/{DATABASE_CONFIG['database']}\""
   ]
  },
  {
   "cell_type": "code",
   "execution_count": null,
   "id": "b01229da",
   "metadata": {},
   "outputs": [],
   "source": [
    "def load_to_database(Tourisme_df):\n",
    "\n",
    "    print(\"💾 Loading data to PostgreSQL database...\")\n",
    "\n",
    "    connection_string = get_connection_string()\n",
    "\n",
    "    try:\n",
    "\n",
    "        engine = create_engine(connection_string)\n",
    "\n",
    "        Tourisme_df.to_sql(\"airports\", con = engine, if_exists='replace', index=False)\n",
    "\n",
    "\n",
    "        print(f\"✅ Loaded {len(Tourisme_df)} airports to database\")\n",
    "\n",
    "    except Exception as e:\n",
    "        print(f\"❌ Error loading data to database: {e}\")\n",
    "        print(\"💡 Make sure:\")\n",
    "        print(\"   - PostgreSQL is running\")\n",
    "        print(\"   - Database 'airlife_db' exists\") \n",
    "        print(\"   - Username and password are correct\")\n",
    "        print(\"   - Tables are created (run database_setup.sql)\")"
   ]
  }
 ],
 "metadata": {
  "kernelspec": {
   "display_name": "sdd_env",
   "language": "python",
   "name": "python3"
  },
  "language_info": {
   "name": "python",
   "version": "3.12.11"
  }
 },
 "nbformat": 4,
 "nbformat_minor": 5
}
